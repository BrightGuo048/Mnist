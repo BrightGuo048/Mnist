{
 "cells": [
  {
   "cell_type": "markdown",
   "metadata": {},
   "source": [
    "# 三层全连接神经网络实现手写数字识别"
   ]
  },
  {
   "cell_type": "code",
   "execution_count": 1,
   "metadata": {
    "collapsed": true
   },
   "outputs": [],
   "source": [
    "import os\n",
    "import numpy as np\n",
    "import struct\n",
    "import math\n",
    "import matplotlib.pyplot as plt"
   ]
  },
  {
   "cell_type": "markdown",
   "metadata": {},
   "source": [
    "## 定义数据载入函数"
   ]
  },
  {
   "cell_type": "code",
   "execution_count": 2,
   "metadata": {
    "collapsed": false
   },
   "outputs": [],
   "source": [
    "class Dataloader:\n",
    "    def __init__(self, root_dir):\n",
    "        self.root = root_dir\n",
    "        \n",
    "    def load_mnist(self, x_path, y_path):\n",
    "        with open(y_path, 'rb') as r:\n",
    "            magic, n = struct.unpack('>II', r.read(8))\n",
    "            labels = np.fromfile(r, dtype=np.uint8)\n",
    "            \n",
    "        with open(x_path, 'rb') as r:\n",
    "            magic, num, rows, cols = struct.unpack('>IIII', r.read(16))\n",
    "            images = np.fromfile(r, dtype=np.uint8).reshape(len(labels), 784)\n",
    "\n",
    "        return images, labels\n",
    "    \n",
    "    def load_data(self):\n",
    "        x_train, y_train = self.load_mnist(\n",
    "            os.path.join(self.root, \"train-images.idx3-ubyte\"),\n",
    "            os.path.join(self.root, \"train-labels.idx1-ubyte\"))\n",
    "        x_test, y_test = self.load_mnist(\n",
    "            os.path.join(self.root, \"t10k-images.idx3-ubyte\"),\n",
    "            os.path.join(self.root, \"t10k-labels.idx1-ubyte\"))\n",
    "        \n",
    "        return x_train, y_train, x_test, y_test"
   ]
  },
  {
   "cell_type": "markdown",
   "metadata": {},
   "source": [
    "## 全连接层"
   ]
  },
  {
   "cell_type": "code",
   "execution_count": 3,
   "metadata": {
    "collapsed": true
   },
   "outputs": [],
   "source": [
    "class Fully_Connect:\n",
    "    def __init__(self, num_in, num_out):\n",
    "        self.w = np.random.normal(size= (num_in, num_out), scale=0.01, loc=0)\n",
    "        self.b = np.random.normal(size= num_out, scale=0.01, loc=0)\n",
    "        self.x = 0\n",
    "        self.y = 0\n",
    "        \n",
    "    def infer(self, x):\n",
    "        self.x = x\n",
    "        out = np.dot(self.x, self.w) + self.b\n",
    "        self.y = out\n",
    "        return out\n",
    "    \n",
    "    def Gred(self, d_p):\n",
    "        d_c = np.dot(d_p, np.transpose(self.w))\n",
    "        self.w = self.w - lr * np.dot(np.transpose(self.x), d_p)\n",
    "        self.b = self.b - lr * d_p\n",
    "        return d_c    "
   ]
  },
  {
   "cell_type": "markdown",
   "metadata": {},
   "source": [
    "## 激活函数"
   ]
  },
  {
   "cell_type": "code",
   "execution_count": 4,
   "metadata": {
    "collapsed": true
   },
   "outputs": [],
   "source": [
    "class Activation:\n",
    "    def __init__(self):\n",
    "        self.x = 0\n",
    "    \n",
    "    def infer(self, x):\n",
    "        self.x = x\n",
    "        out = np.maximum(self.x, 0)\n",
    "        return out\n",
    "    \n",
    "    def Gred(self, d_p):\n",
    "        d_c = d_p\n",
    "        p = np.isinf(self.x / self.x)\n",
    "        d_c[p] = 0\n",
    "        return d_c"
   ]
  },
  {
   "cell_type": "markdown",
   "metadata": {},
   "source": [
    "## Softmax函数"
   ]
  },
  {
   "cell_type": "code",
   "execution_count": 5,
   "metadata": {
    "collapsed": true
   },
   "outputs": [],
   "source": [
    "class Softmax:\n",
    "    def __init__(self):\n",
    "        self.x = 0\n",
    "        self.t = 0\n",
    "        self.y = 0\n",
    "        self.t_onehot = 0\n",
    "    \n",
    "    def infer(self, x, truth):\n",
    "        self.x = x\n",
    "        self.t = truth\n",
    "        \n",
    "        row_max = self.x.max(axis= 1)\n",
    "        row_max = row_max.reshape(-1, 1)\n",
    "        x = self.x - row_max\n",
    "        x_exp = np.exp(x)\n",
    "        x_sum = np.sum(x_exp, axis= 1, keepdims=True)\n",
    "        out = x_exp / x_sum\n",
    "        self.y = out\n",
    "        \n",
    "        return out\n",
    "    \n",
    "    def cal_loss(self):\n",
    "        one_hot = np.zeros_like(self.y)\n",
    "        one_hot[np.arange(batch), self.t] = 1.0 #one-hot code\n",
    "        self.t_onehot = one_hot\n",
    "        loss = - np.sum(np.log(self.y) * self.t_onehot) / batch\n",
    "        \n",
    "        if(loss == 'nan'):\n",
    "            print(self.y)\n",
    "            print(self.t_onehot)\n",
    "            \n",
    "        return loss\n",
    "    \n",
    "    def Gred(self):\n",
    "        d_c = 1.0 / batch * (self.y - self.t_onehot)\n",
    "        return d_c"
   ]
  },
  {
   "cell_type": "markdown",
   "metadata": {},
   "source": [
    "## 定义网络"
   ]
  },
  {
   "cell_type": "code",
   "execution_count": 6,
   "metadata": {
    "collapsed": true
   },
   "outputs": [],
   "source": [
    "class Net:\n",
    "    def __init__(self, in_num, num1, num2, num3):\n",
    "        self.x = 0\n",
    "        self.label = 0\n",
    "        self.fc1 = Fully_Connect(in_num, num1)\n",
    "        self.act1 = Activation()\n",
    "        self.fc2 = Fully_Connect(num1, num2)\n",
    "        self.act2 = Activation()\n",
    "        self.fc3 = Fully_Connect(num2, num3)\n",
    "        self.softmax = Softmax()\n",
    "        \n",
    "    def forward(self, x, label):\n",
    "        f1 = self.fc1.infer(x)\n",
    "        a1 = self.act1.infer(f1)\n",
    "        f2 = self.fc2.infer(a1)\n",
    "        a2 = self.act2.infer(f2)\n",
    "        f3 = self.fc3.infer(a2) \n",
    "        res = self.softmax.infer(f3, label)\n",
    "        \n",
    "        loss = self.softmax.cal_loss()\n",
    "        \n",
    "        return loss, res\n",
    "    \n",
    "    def backward(self):\n",
    "        loss_d = self.softmax.Gred()\n",
    "        fc3_d = self.fc3.Gred(loss_d)\n",
    "        act2_d =self.act2.Gred(fc3_d)\n",
    "        fc2_d = self.fc2.Gred(act2_d)\n",
    "        act1_d = self.act1.Gred(fc2_d)\n",
    "        fc1_d = self.fc1.Gred(act1_d)    "
   ]
  },
  {
   "cell_type": "markdown",
   "metadata": {},
   "source": [
    "## 定义训练函数"
   ]
  },
  {
   "cell_type": "code",
   "execution_count": 7,
   "metadata": {
    "collapsed": true
   },
   "outputs": [],
   "source": [
    "def train(net):\n",
    "    loss = 0\n",
    "    for e in range(epoch):\n",
    "        for iter in range(math.ceil(train_images.shape[0] / batch)):\n",
    "            x = train_images[iter*batch:(iter+1)*batch,:]\n",
    "            label = train_labels[iter*batch:(iter+1)*batch]\n",
    "            loss, res = net.forward(x, label)\n",
    "            net.backward()\n",
    "        loss_list.append(loss)\n",
    "        print(\"epoch = {} loss = {}\".format(e+1, loss))\n",
    "    \n",
    "    return net"
   ]
  },
  {
   "cell_type": "markdown",
   "metadata": {},
   "source": [
    "## 绘制loss曲线图"
   ]
  },
  {
   "cell_type": "code",
   "execution_count": 8,
   "metadata": {
    "collapsed": true
   },
   "outputs": [],
   "source": [
    "def draw_loss(loss_list):\n",
    "    y_axis = loss_list\n",
    "    x_axis = [i for i in range(len(loss_list))]\n",
    "    plt.figure(figsize=(12,6))\n",
    "    plt.plot(x_axis, y_axis)\n",
    "\n",
    "    plt.xlabel('Epoch')\n",
    "    plt.ylabel('Loss')\n",
    "\n",
    "    plt.show()"
   ]
  },
  {
   "cell_type": "markdown",
   "metadata": {},
   "source": [
    "## 计算Accuracy"
   ]
  },
  {
   "cell_type": "code",
   "execution_count": 9,
   "metadata": {
    "collapsed": true
   },
   "outputs": [],
   "source": [
    "def evaluate(net):\n",
    "    pred = np.zeros_like(test_labels)\n",
    "    for iter in range(math.ceil(test_images.shape[0] / batch)):\n",
    "        x = test_images[iter*batch:(iter+1)*batch,:]\n",
    "        label = test_labels[iter*batch:(iter+1)*batch]\n",
    "        loss, res = net.forward(x, label)\n",
    "        pred_label = np.argmax(res, axis = 1)\n",
    "        pred[iter*batch:(iter+1)*batch] = pred_label\n",
    "        \n",
    "    accuracy = np.mean(pred == test_labels)\n",
    "    return accuracy"
   ]
  },
  {
   "cell_type": "markdown",
   "metadata": {},
   "source": [
    "## 设置参数"
   ]
  },
  {
   "cell_type": "code",
   "execution_count": 10,
   "metadata": {
    "collapsed": true
   },
   "outputs": [],
   "source": [
    "file = \"D:mnist//\"\n",
    "lr = 0.001\n",
    "batch = 200\n",
    "#im_scale = 784\n",
    "epoch = 300\n",
    "\n",
    "#500 neurons in the hidden layer1,\n",
    "#300 neurons in the hidden layer2,\n",
    "#10 neurons in the hidden layer3\n",
    "cell_num1 = 500\n",
    "cell_num2 = 300\n",
    "cell_num3 = 10\n",
    "\n",
    "loss_list = []"
   ]
  },
  {
   "cell_type": "markdown",
   "metadata": {},
   "source": [
    "## 载入数据"
   ]
  },
  {
   "cell_type": "code",
   "execution_count": 11,
   "metadata": {
    "collapsed": false,
    "scrolled": true
   },
   "outputs": [
    {
     "name": "stdout",
     "output_type": "stream",
     "text": [
      "训练数据尺寸\n",
      " 图像 (60000, 784) 标签(60000,)\n",
      "测试数据尺寸\n",
      " 图像 (10000, 784) 标签(10000,)\n"
     ]
    }
   ],
   "source": [
    "dataloader = Dataloader(file)\n",
    "train_images, train_labels, test_images, test_labels = dataloader.load_data()\n",
    "print(\"训练数据尺寸\\n 图像 {} 标签{}\".format(train_images.shape, train_labels.shape))\n",
    "print(\"测试数据尺寸\\n 图像 {} 标签{}\".format(test_images.shape, test_labels.shape))"
   ]
  },
  {
   "cell_type": "markdown",
   "metadata": {},
   "source": [
    "## Start training and evaluating!！"
   ]
  },
  {
   "cell_type": "code",
   "execution_count": 12,
   "metadata": {
    "collapsed": false
   },
   "outputs": [
    {
     "name": "stdout",
     "output_type": "stream",
     "text": [
      "epoch = 1 loss = 0.24590768669543406\n",
      "epoch = 2 loss = 0.19855591120348737\n",
      "epoch = 3 loss = 0.18063119853581486\n",
      "epoch = 4 loss = 0.16971160933927895\n",
      "epoch = 5 loss = 0.16193214241813458\n",
      "epoch = 6 loss = 0.1562243737711325\n",
      "epoch = 7 loss = 0.1517602721727827\n",
      "epoch = 8 loss = 0.14823935949466208\n",
      "epoch = 9 loss = 0.14540103122674056\n",
      "epoch = 10 loss = 0.1431747230671493\n",
      "epoch = 11 loss = 0.1414677926273388\n",
      "epoch = 12 loss = 0.1401570543930881\n",
      "epoch = 13 loss = 0.1390531604108021\n",
      "epoch = 14 loss = 0.13810987494495797\n",
      "epoch = 15 loss = 0.1374093767126646\n",
      "epoch = 16 loss = 0.13688254483349366\n",
      "epoch = 17 loss = 0.13645437722689072\n",
      "epoch = 18 loss = 0.13616726908850482\n",
      "epoch = 19 loss = 0.13592774347451658\n",
      "epoch = 20 loss = 0.13570427340014832\n",
      "epoch = 21 loss = 0.1355313050813497\n",
      "epoch = 22 loss = 0.13539031735904783\n",
      "epoch = 23 loss = 0.13524447104327852\n",
      "epoch = 24 loss = 0.13509935914412088\n",
      "epoch = 25 loss = 0.13497595355389136\n",
      "epoch = 26 loss = 0.13470995905716607\n",
      "epoch = 27 loss = 0.13441403433882654\n",
      "epoch = 28 loss = 0.13410900175729085\n",
      "epoch = 29 loss = 0.13376548377048336\n",
      "epoch = 30 loss = 0.13339957428173907\n",
      "epoch = 31 loss = 0.13292495223092834\n",
      "epoch = 32 loss = 0.13244674078440288\n",
      "epoch = 33 loss = 0.1319867785891607\n",
      "epoch = 34 loss = 0.13148704644379375\n",
      "epoch = 35 loss = 0.1309589949334465\n",
      "epoch = 36 loss = 0.13048077628214558\n",
      "epoch = 37 loss = 0.13006158680270669\n",
      "epoch = 38 loss = 0.12967928452893548\n",
      "epoch = 39 loss = 0.1293087235549976\n",
      "epoch = 40 loss = 0.12896512907174432\n",
      "epoch = 41 loss = 0.128637830520011\n",
      "epoch = 42 loss = 0.12832321782708628\n",
      "epoch = 43 loss = 0.12796768807377992\n",
      "epoch = 44 loss = 0.1276673672931789\n",
      "epoch = 45 loss = 0.12740034795824592\n",
      "epoch = 46 loss = 0.12719705582908308\n",
      "epoch = 47 loss = 0.12696183316503615\n",
      "epoch = 48 loss = 0.12677686843404978\n",
      "epoch = 49 loss = 0.1266823044148056\n",
      "epoch = 50 loss = 0.12661362608424326\n",
      "epoch = 51 loss = 0.12654704963331379\n",
      "epoch = 52 loss = 0.1264751584253569\n",
      "epoch = 53 loss = 0.1263801257939998\n",
      "epoch = 54 loss = 0.12632270608786839\n",
      "epoch = 55 loss = 0.12624392657968056\n",
      "epoch = 56 loss = 0.12616671941196758\n",
      "epoch = 57 loss = 0.1261503073926066\n",
      "epoch = 58 loss = 0.12615712558417722\n",
      "epoch = 59 loss = 0.12616884205892753\n",
      "epoch = 60 loss = 0.126167390644596\n",
      "epoch = 61 loss = 0.12611596175176568\n",
      "epoch = 62 loss = 0.12610616629440893\n",
      "epoch = 63 loss = 0.12615696099717189\n",
      "epoch = 64 loss = 0.1262612139338215\n",
      "epoch = 65 loss = 0.12635673117957746\n",
      "epoch = 66 loss = 0.12642855082168164\n",
      "epoch = 67 loss = 0.12659000149516209\n",
      "epoch = 68 loss = 0.12681877830923213\n",
      "epoch = 69 loss = 0.12704432435862167\n",
      "epoch = 70 loss = 0.1273396482877872\n",
      "epoch = 71 loss = 0.12770230356464884\n",
      "epoch = 72 loss = 0.12812510082146933\n",
      "epoch = 73 loss = 0.12854665725205\n",
      "epoch = 74 loss = 0.12892678417803277\n",
      "epoch = 75 loss = 0.12923672770719022\n",
      "epoch = 76 loss = 0.12961397991172965\n",
      "epoch = 77 loss = 0.13000320295618994\n",
      "epoch = 78 loss = 0.13030110304791892\n",
      "epoch = 79 loss = 0.13058082277099264\n",
      "epoch = 80 loss = 0.13088517631512006\n",
      "epoch = 81 loss = 0.13122835581344872\n",
      "epoch = 82 loss = 0.13153188544653768\n",
      "epoch = 83 loss = 0.13176380643881982\n",
      "epoch = 84 loss = 0.13196652212761728\n",
      "epoch = 85 loss = 0.13216151391322706\n",
      "epoch = 86 loss = 0.13231766850265675\n",
      "epoch = 87 loss = 0.13248427068986998\n",
      "epoch = 88 loss = 0.13269871404048364\n",
      "epoch = 89 loss = 0.13286333331517927\n",
      "epoch = 90 loss = 0.13298639520198827\n",
      "epoch = 91 loss = 0.13314351633520585\n",
      "epoch = 92 loss = 0.13326930125252465\n",
      "epoch = 93 loss = 0.13335834095601043\n",
      "epoch = 94 loss = 0.13345464425221315\n",
      "epoch = 95 loss = 0.13352093311319446\n",
      "epoch = 96 loss = 0.13361186308982925\n",
      "epoch = 97 loss = 0.13371736812686583\n",
      "epoch = 98 loss = 0.13378216874836382\n",
      "epoch = 99 loss = 0.13375092914705866\n",
      "epoch = 100 loss = 0.1336364784013661\n",
      "epoch = 101 loss = 0.13331117732040718\n",
      "epoch = 102 loss = 0.13293382492340183\n",
      "epoch = 103 loss = 0.13240881717472835\n",
      "epoch = 104 loss = 0.13201685448126835\n",
      "epoch = 105 loss = 0.13168643038099273\n",
      "epoch = 106 loss = 0.1313238983490765\n",
      "epoch = 107 loss = 0.13105721406853255\n",
      "epoch = 108 loss = 0.13095625611845702\n",
      "epoch = 109 loss = 0.13079819339919777\n",
      "epoch = 110 loss = 0.13069916795928258\n",
      "epoch = 111 loss = 0.13066815641774446\n",
      "epoch = 112 loss = 0.13072893417694703\n",
      "epoch = 113 loss = 0.1307587937988542\n",
      "epoch = 114 loss = 0.13075445707745056\n",
      "epoch = 115 loss = 0.1307046882052281\n",
      "epoch = 116 loss = 0.13059396747192045\n",
      "epoch = 117 loss = 0.13059583229595623\n",
      "epoch = 118 loss = 0.1306387287806131\n",
      "epoch = 119 loss = 0.13081063732207124\n",
      "epoch = 120 loss = 0.13101668550750042\n",
      "epoch = 121 loss = 0.13127551050138947\n",
      "epoch = 122 loss = 0.13141170234458327\n",
      "epoch = 123 loss = 0.1314461040476813\n",
      "epoch = 124 loss = 0.13147270050851906\n",
      "epoch = 125 loss = 0.13159850292448627\n",
      "epoch = 126 loss = 0.13185345024674786\n",
      "epoch = 127 loss = 0.13203949422682432\n",
      "epoch = 128 loss = 0.13221570992580672\n",
      "epoch = 129 loss = 0.13241249208975586\n",
      "epoch = 130 loss = 0.13264818630967837\n",
      "epoch = 131 loss = 0.1329477368794139\n",
      "epoch = 132 loss = 0.13310400543685047\n",
      "epoch = 133 loss = 0.13328811068251814\n",
      "epoch = 134 loss = 0.13351531527863533\n",
      "epoch = 135 loss = 0.1337928904008281\n",
      "epoch = 136 loss = 0.13419657311392327\n",
      "epoch = 137 loss = 0.13462544153310912\n",
      "epoch = 138 loss = 0.13511916023599105\n",
      "epoch = 139 loss = 0.1356853975277283\n",
      "epoch = 140 loss = 0.13631758293574606\n",
      "epoch = 141 loss = 0.13708529478575446\n",
      "epoch = 142 loss = 0.1379491184066689\n",
      "epoch = 143 loss = 0.13885314977608418\n",
      "epoch = 144 loss = 0.1397880159165082\n",
      "epoch = 145 loss = 0.1407854219702368\n",
      "epoch = 146 loss = 0.14200459229540022\n",
      "epoch = 147 loss = 0.14346603788602644\n",
      "epoch = 148 loss = 0.14509926399709566\n",
      "epoch = 149 loss = 0.1467385304501643\n",
      "epoch = 150 loss = 0.14850913587617584\n",
      "epoch = 151 loss = 0.15034906965288175\n",
      "epoch = 152 loss = 0.1521059158900747\n",
      "epoch = 153 loss = 0.15397711228886143\n",
      "epoch = 154 loss = 0.15605912983309284\n",
      "epoch = 155 loss = 0.15837288892950915\n",
      "epoch = 156 loss = 0.1608172947454946\n",
      "epoch = 157 loss = 0.16332131260856808\n",
      "epoch = 158 loss = 0.16582127083378453\n",
      "epoch = 159 loss = 0.1685201400409708\n",
      "epoch = 160 loss = 0.1711445653002024\n",
      "epoch = 161 loss = 0.17365564416814003\n",
      "epoch = 162 loss = 0.1760666319528306\n",
      "epoch = 163 loss = 0.178359410723391\n",
      "epoch = 164 loss = 0.18078657796843625\n",
      "epoch = 165 loss = 0.183256400874834\n",
      "epoch = 166 loss = 0.18564520055379594\n",
      "epoch = 167 loss = 0.18789537195585818\n",
      "epoch = 168 loss = 0.19014091836684618\n",
      "epoch = 169 loss = 0.19225954189545544\n",
      "epoch = 170 loss = 0.19432210605848715\n",
      "epoch = 171 loss = 0.1961420907850923\n",
      "epoch = 172 loss = 0.19791841638519006\n",
      "epoch = 173 loss = 0.19956684530692623\n",
      "epoch = 174 loss = 0.20112287767651274\n",
      "epoch = 175 loss = 0.20279479782364376\n",
      "epoch = 176 loss = 0.20438130867011853\n",
      "epoch = 177 loss = 0.20574933310224988\n",
      "epoch = 178 loss = 0.20710409703158386\n",
      "epoch = 179 loss = 0.2083903183968973\n",
      "epoch = 180 loss = 0.20968259632126354\n",
      "epoch = 181 loss = 0.21095847011578125\n",
      "epoch = 182 loss = 0.2119757142104612\n",
      "epoch = 183 loss = 0.21286116375614714\n",
      "epoch = 184 loss = 0.21358197172586876\n",
      "epoch = 185 loss = 0.21425204123390285\n",
      "epoch = 186 loss = 0.2148893795499717\n",
      "epoch = 187 loss = 0.21537814556279233\n",
      "epoch = 188 loss = 0.21597727082335716\n",
      "epoch = 189 loss = 0.21645065627828877\n",
      "epoch = 190 loss = 0.2168689764240952\n",
      "epoch = 191 loss = 0.21741584306323997\n",
      "epoch = 192 loss = 0.2178878349379867\n",
      "epoch = 193 loss = 0.21856133298567024\n",
      "epoch = 194 loss = 0.21916004197791206\n",
      "epoch = 195 loss = 0.21964837029785625\n",
      "epoch = 196 loss = 0.22011628871895744\n",
      "epoch = 197 loss = 0.22047124707735555\n",
      "epoch = 198 loss = 0.22077877651510452\n",
      "epoch = 199 loss = 0.2208432562962933\n",
      "epoch = 200 loss = 0.22075228884692663\n",
      "epoch = 201 loss = 0.2206187582365397\n",
      "epoch = 202 loss = 0.22026132954433206\n",
      "epoch = 203 loss = 0.21992726170357357\n",
      "epoch = 204 loss = 0.21942155244846057\n",
      "epoch = 205 loss = 0.21877825402948314\n",
      "epoch = 206 loss = 0.2181424846306199\n",
      "epoch = 207 loss = 0.21782616730747695\n",
      "epoch = 208 loss = 0.2174782826896838\n",
      "epoch = 209 loss = 0.21702972204831336\n",
      "epoch = 210 loss = 0.21663575901282858\n",
      "epoch = 211 loss = 0.2161119298596036\n",
      "epoch = 212 loss = 0.21553719816624517\n",
      "epoch = 213 loss = 0.21502588549580787\n",
      "epoch = 214 loss = 0.21460884727164845\n",
      "epoch = 215 loss = 0.21422843972851208\n",
      "epoch = 216 loss = 0.213769479193924\n",
      "epoch = 217 loss = 0.2134754227122357\n",
      "epoch = 218 loss = 0.21314457633414793\n",
      "epoch = 219 loss = 0.2124136059874942\n",
      "epoch = 220 loss = 0.21165762295022744\n",
      "epoch = 221 loss = 0.2109184313989119\n",
      "epoch = 222 loss = 0.21008152199519844\n",
      "epoch = 223 loss = 0.20912403806308036\n",
      "epoch = 224 loss = 0.2081969556390232\n",
      "epoch = 225 loss = 0.20742312127576798\n",
      "epoch = 226 loss = 0.2066305055251688\n",
      "epoch = 227 loss = 0.20592218289070766\n",
      "epoch = 228 loss = 0.20513134238334266\n",
      "epoch = 229 loss = 0.2042729663226966\n",
      "epoch = 230 loss = 0.2035048437438226\n",
      "epoch = 231 loss = 0.20273051374276707\n",
      "epoch = 232 loss = 0.20199320644624494\n",
      "epoch = 233 loss = 0.20129287896912573\n",
      "epoch = 234 loss = 0.20052983989305967\n",
      "epoch = 235 loss = 0.19972617070014775\n",
      "epoch = 236 loss = 0.1989285335525414\n",
      "epoch = 237 loss = 0.19809017467180254\n",
      "epoch = 238 loss = 0.1971822037593219\n",
      "epoch = 239 loss = 0.19620458612857297\n",
      "epoch = 240 loss = 0.19522092693602727\n",
      "epoch = 241 loss = 0.19435327083278647\n",
      "epoch = 242 loss = 0.19354091801611198\n",
      "epoch = 243 loss = 0.1928111590747794\n",
      "epoch = 244 loss = 0.19215817558511264\n",
      "epoch = 245 loss = 0.19155319488827618\n",
      "epoch = 246 loss = 0.19110477598443953\n",
      "epoch = 247 loss = 0.1906520576899319\n",
      "epoch = 248 loss = 0.19030617076748957\n",
      "epoch = 249 loss = 0.18999753631676483\n",
      "epoch = 250 loss = 0.18954106421340686\n",
      "epoch = 251 loss = 0.18892716825061664\n",
      "epoch = 252 loss = 0.1882345008717681\n",
      "epoch = 253 loss = 0.18760996801399674\n",
      "epoch = 254 loss = 0.18693086131944361\n",
      "epoch = 255 loss = 0.1862726414768382\n",
      "epoch = 256 loss = 0.1856494685268537\n",
      "epoch = 257 loss = 0.18514355498588334\n",
      "epoch = 258 loss = 0.18499986905994248\n",
      "epoch = 259 loss = 0.18479321867667323\n",
      "epoch = 260 loss = 0.18444475271440272\n",
      "epoch = 261 loss = 0.18422264459412754\n",
      "epoch = 262 loss = 0.1842725378735687\n",
      "epoch = 263 loss = 0.1843302265898096\n",
      "epoch = 264 loss = 0.18458156858140193\n",
      "epoch = 265 loss = 0.18488076105869108\n",
      "epoch = 266 loss = 0.18520293295822188\n",
      "epoch = 267 loss = 0.18568396591483502\n",
      "epoch = 268 loss = 0.18636390516485726\n",
      "epoch = 269 loss = 0.18703040397013163\n",
      "epoch = 270 loss = 0.18777275452732764\n",
      "epoch = 271 loss = 0.1887332194664466\n",
      "epoch = 272 loss = 0.1900222503944004\n",
      "epoch = 273 loss = 0.1913730706132161\n",
      "epoch = 274 loss = 0.19270263021382142\n",
      "epoch = 275 loss = 0.19402038645930578\n",
      "epoch = 276 loss = 0.19542019525259413\n",
      "epoch = 277 loss = 0.1967959811380152\n",
      "epoch = 278 loss = 0.19807668648805596\n",
      "epoch = 279 loss = 0.1994411016620991\n",
      "epoch = 280 loss = 0.20111488467342123\n",
      "epoch = 281 loss = 0.2032173050917126\n",
      "epoch = 282 loss = 0.20541424062632996\n",
      "epoch = 283 loss = 0.20769292157318053\n",
      "epoch = 284 loss = 0.21013470386307076\n",
      "epoch = 285 loss = 0.2124675769923562\n",
      "epoch = 286 loss = 0.21481355045912445\n",
      "epoch = 287 loss = 0.21735866138100315\n",
      "epoch = 288 loss = 0.2201632660149833\n",
      "epoch = 289 loss = 0.22299499885391605\n",
      "epoch = 290 loss = 0.22596833707783684\n",
      "epoch = 291 loss = 0.22844643783077095\n",
      "epoch = 292 loss = 0.23058517487620622\n",
      "epoch = 293 loss = 0.2324263011499868\n",
      "epoch = 294 loss = 0.23427620628048854\n",
      "epoch = 295 loss = 0.2357493684121005\n",
      "epoch = 296 loss = 0.2369563932427858\n",
      "epoch = 297 loss = 0.23813157903757115\n",
      "epoch = 298 loss = 0.23936234621239\n",
      "epoch = 299 loss = 0.24062528551546714\n",
      "epoch = 300 loss = 0.24186390551010625\n"
     ]
    },
    {
     "data": {
      "image/png": "[encoded data removed]",
      "text/plain": [
       "<matplotlib.figure.Figure at 0x1c15a287fd0>"
      ]
     },
     "metadata": {},
     "output_type": "display_data"
    },
    {
     "name": "stdout",
     "output_type": "stream",
     "text": [
      "测试集预测准确率: 0.9344\n"
     ]
    }
   ],
   "source": [
    "net = Net(train_images.shape[1], cell_num1, cell_num2, cell_num3)\n",
    "train(net)\n",
    "draw_loss(loss_list)\n",
    "accuracy = evaluate(net)\n",
    "print(\"测试集预测准确率: {}\".format(accuracy))"
   ]
  },
  {
   "cell_type": "code",
   "execution_count": null,
   "metadata": {
    "collapsed": true
   },
   "outputs": [],
   "source": []
  }
 ],
 "metadata": {
  "kernelspec": {
   "display_name": "Python 3",
   "language": "python",
   "name": "python3"
  },
  "language_info": {
   "codemirror_mode": {
    "name": "ipython",
    "version": 3
   },
   "file_extension": ".py",
   "mimetype": "text/x-python",
   "name": "python",
   "nbconvert_exporter": "python",
   "pygments_lexer": "ipython3",
   "version": "3.6.0"
  }
 },
 "nbformat": 4,
 "nbformat_minor": 2
}
